{
 "cells": [
  {
   "cell_type": "markdown",
   "metadata": {},
   "source": [
    "Below is a small snippet that runs ten random ensembles and averages their results."
   ]
  },
  {
   "cell_type": "code",
   "execution_count": 2,
   "metadata": {},
   "outputs": [
    {
     "name": "stdout",
     "output_type": "stream",
     "text": [
      "emotions:train - exists, not redownloading\n",
      "emotions:test - exists, not redownloading\n",
      "0\n",
      "1\n",
      "2\n",
      "3\n",
      "4\n",
      "emotions:train - exists, not redownloading\n",
      "emotions:test - exists, not redownloading\n",
      "0\n",
      "1\n",
      "2\n",
      "3\n",
      "4\n",
      "emotions:train - exists, not redownloading\n",
      "emotions:test - exists, not redownloading\n",
      "0\n",
      "1\n",
      "2\n",
      "3\n",
      "4\n",
      "emotions:train - exists, not redownloading\n",
      "emotions:test - exists, not redownloading\n",
      "0\n",
      "1\n",
      "2\n",
      "3\n",
      "4\n",
      "emotions:train - exists, not redownloading\n",
      "emotions:test - exists, not redownloading\n",
      "0\n",
      "1\n",
      "2\n",
      "3\n",
      "4\n",
      "emotions:train - exists, not redownloading\n",
      "emotions:test - exists, not redownloading\n",
      "0\n",
      "1\n",
      "2\n",
      "3\n",
      "4\n",
      "emotions:train - exists, not redownloading\n",
      "emotions:test - exists, not redownloading\n",
      "0\n",
      "1\n",
      "2\n",
      "3\n",
      "4\n",
      "emotions:train - exists, not redownloading\n",
      "emotions:test - exists, not redownloading\n",
      "0\n",
      "1\n",
      "2\n",
      "3\n",
      "4\n",
      "emotions:train - exists, not redownloading\n",
      "emotions:test - exists, not redownloading\n",
      "0\n",
      "1\n",
      "2\n",
      "3\n",
      "4\n",
      "emotions:train - exists, not redownloading\n",
      "emotions:test - exists, not redownloading\n",
      "0\n",
      "1\n",
      "2\n",
      "3\n",
      "4\n"
     ]
    }
   ],
   "source": [
    "from Vorace import Vorace\n",
    "import sklearn.metrics as metrics\n",
    "from sklearn.metrics import accuracy_score\n",
    "import numpy as np\n",
    "from skmultilearn.dataset import load_dataset\n",
    "from scipy import sparse\n",
    "import warnings\n",
    "warnings.filterwarnings(\"ignore\")\n",
    "\n",
    "# choose a data set\n",
    "#[\"emotions\", \"scene\", \"yeast\", \"mediamill\", \"bibtex\", \"delicious\"]\n",
    "sets = [\"emotions\"]\n",
    "\n",
    "f1stds = []\n",
    "finalf1 = []\n",
    "\n",
    "for set in sets:\n",
    "    f1 = []\n",
    "    for i in range(10):\n",
    "        # load train, test splits\n",
    "        X_train, y_train, feature_names, label_names = load_dataset(set, 'train')\n",
    "        X_test, y_test, _, _ = load_dataset(set, 'test')\n",
    "        #n_models = number of classifiers in ensemble\n",
    "        #profile type 4 = mix of classifier types 0-3\n",
    "        vorace = Vorace(n_models=5, profile_type=4, batch_size=16)\n",
    "        vorace.fit(X_train, y_train, bagging=False)\n",
    "        y_pred_vorace,_ = vorace.predict(voting=\"Approval\",x=X_test, argMax=True, tiebreak=\"best\")\n",
    "        y_pred = np.asarray(y_pred_vorace)\n",
    "        y_new = np.empty(y_test.shape)\n",
    "        for i in range(y_pred.shape[0]):\n",
    "            y_new[i] = y_pred[i].todense()\n",
    "        y_p = sparse.lil_matrix(y_new).todense()\n",
    "        accuracy = accuracy_score(y_test, y_p)\n",
    "        f1.append(metrics.f1_score(y_test, y_p, average='macro'))\n",
    "        \n",
    "    finalf1.append(np.mean(f1))\n",
    "    f1stds.append(np.std(f1))"
   ]
  },
  {
   "cell_type": "markdown",
   "metadata": {},
   "source": [
    "Below are the results of the above."
   ]
  },
  {
   "cell_type": "code",
   "execution_count": 4,
   "metadata": {},
   "outputs": [
    {
     "name": "stdout",
     "output_type": "stream",
     "text": [
      "['emotions']\n",
      "[0.5258947900747898]\n",
      "[0.046030579154874636]\n"
     ]
    }
   ],
   "source": [
    "#print name of data sets\n",
    "print(sets)\n",
    "#print f1 scores and stand devs\n",
    "print(finalf1)\n",
    "print(f1stds)"
   ]
  }
 ],
 "metadata": {
  "interpreter": {
   "hash": "665df95060b72ea51a7ed469866eb2f943585978c1794c921037cf61ff04915b"
  },
  "kernelspec": {
   "display_name": "Python 3.6.4 32-bit",
   "language": "python",
   "name": "python3"
  },
  "language_info": {
   "codemirror_mode": {
    "name": "ipython",
    "version": 3
   },
   "file_extension": ".py",
   "mimetype": "text/x-python",
   "name": "python",
   "nbconvert_exporter": "python",
   "pygments_lexer": "ipython3",
   "version": "3.6.4"
  },
  "orig_nbformat": 4
 },
 "nbformat": 4,
 "nbformat_minor": 2
}
